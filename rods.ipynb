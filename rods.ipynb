{
 "metadata": {
  "language_info": {
   "codemirror_mode": {
    "name": "ipython",
    "version": 3
   },
   "file_extension": ".py",
   "mimetype": "text/x-python",
   "name": "python",
   "nbconvert_exporter": "python",
   "pygments_lexer": "ipython3",
   "version": "3.7.0-final"
  },
  "orig_nbformat": 2,
  "kernelspec": {
   "name": "python3",
   "display_name": "Python 3.7.0 64-bit ('anaconda3': virtualenv)",
   "metadata": {
    "interpreter": {
     "hash": "344443636c3027c5042750c9c609acdda283a9c43681b128a8c1053e7ad2aa7d"
    }
   }
  }
 },
 "nbformat": 4,
 "nbformat_minor": 2,
 "cells": [
  {
   "cell_type": "code",
   "execution_count": 1,
   "metadata": {},
   "outputs": [],
   "source": [
    "import matplotlib.pyplot as plt\n",
    "from matplotlib.patches import Arc\n",
    "%matplotlib inline"
   ]
  },
  {
   "cell_type": "code",
   "execution_count": 109,
   "metadata": {},
   "outputs": [],
   "source": [
    "def add_rods(x, y, r_mag=1/3, rod_color='r', rod_lw=1.5):\n",
    "    r = np.sqrt(x**2 + y**2)\n",
    "    th = np.arctan(y/x)\n",
    "    R = r/2/np.cos(th)\n",
    "    beta0 = np.arctan(y/(x - R)) % np.pi\n",
    "    start = np.rad2deg(beta0 - r/R/2*r_mag)\n",
    "    end = np.rad2deg(beta0 + r/R/2*r_mag)\n",
    "    ax.add_patch(Arc((R, 0), 2*R, 2*R,\n",
    "                    theta1=start, theta2=end, edgecolor=rod_color, lw=rod_lw))\n",
    "    ax.add_patch(Arc((R, 0), 2*R, 2*R,\n",
    "                    theta1=-end, theta2=-start, edgecolor=rod_color, lw=rod_lw))\n",
    "    ax.add_patch(Arc((-R, 0), 2*R, 2*R,\n",
    "                    theta1=180-end, theta2=180-start, edgecolor=rod_color, lw=rod_lw))\n",
    "    ax.add_patch(Arc((-R, 0), 2*R, 2*R,\n",
    "                    theta1=180+start, theta2=180+end, edgecolor=rod_color, lw=rod_lw))"
   ]
  },
  {
   "cell_type": "code",
   "execution_count": 120,
   "metadata": {},
   "outputs": [
    {
     "output_type": "stream",
     "name": "stdout",
     "text": [
      "i=%s 0, 1, 2, 3, 4, 5, 6, 7, 8, 9, "
     ]
    },
    {
     "output_type": "display_data",
     "data": {
      "text/plain": "<Figure size 237.6x237.6 with 1 Axes>",
      "image/svg+xml": "<?xml version=\"1.0\" encoding=\"utf-8\" standalone=\"no\"?>\n<!DOCTYPE svg PUBLIC \"-//W3C//DTD SVG 1.1//EN\"\n  \"http://www.w3.org/Graphics/SVG/1.1/DTD/svg11.dtd\">\n<!-- Created with matplotlib (http://matplotlib.org/) -->\n<svg height=\"272.178125pt\" version=\"1.1\" viewBox=\"0 0 277.242188 272.178125\" width=\"277.242188pt\" xmlns=\"http://www.w3.org/2000/svg\" xmlns:xlink=\"http://www.w3.org/1999/xlink\">\n <defs>\n  <style type=\"text/css\">\n*{stroke-linecap:butt;stroke-linejoin:round;}\n  </style>\n </defs>\n <g id=\"figure_1\">\n  <g id=\"axes_1\">\n   <g id=\"patch_1\">\n    <path clip-path=\"url(#p1b0da78c9d)\" d=\"M 193.954365 137.274146 \nC 194.820153 134.773699 195.262187 132.146096 195.262187 129.5 \nC 195.262187 126.853904 194.820153 124.226301 193.954365 121.725854 \n\" style=\"fill:none;stroke:#ff0000;stroke-linejoin:miter;stroke-width:1.5;\"/>\n   </g>\n   <g id=\"patch_2\">\n    <path clip-path=\"url(#p1b0da78c9d)\" d=\"M 193.954365 137.274146 \nC 194.820153 134.773699 195.262187 132.146096 195.262187 129.5 \nC 195.262187 126.853904 194.820153 124.226301 193.954365 121.725854 \n\" style=\"fill:none;stroke:#ff0000;stroke-linejoin:miter;stroke-width:1.5;\"/>\n   </g>\n   <g id=\"patch_3\">\n    <path clip-path=\"url(#p1b0da78c9d)\" d=\"M 101.53001 121.725854 \nC 100.664222 124.226301 100.222187 126.853904 100.222187 129.5 \nC 100.222187 132.146096 100.664222 134.773699 101.53001 137.274146 \n\" style=\"fill:none;stroke:#ff0000;stroke-linejoin:miter;stroke-width:1.5;\"/>\n   </g>\n   <g id=\"patch_4\">\n    <path clip-path=\"url(#p1b0da78c9d)\" d=\"M 101.53001 121.725854 \nC 100.664222 124.226301 100.222187 126.853904 100.222187 129.5 \nC 100.222187 132.146096 100.664222 134.773699 101.53001 137.274146 \n\" style=\"fill:none;stroke:#ff0000;stroke-linejoin:miter;stroke-width:1.5;\"/>\n   </g>\n   <g id=\"patch_5\">\n    <path clip-path=\"url(#p1b0da78c9d)\" d=\"M 196.461965 120.006362 \nC 195.46871 117.554526 194.096801 115.273685 192.396381 113.247203 \nC 190.69596 111.220721 188.688 109.47359 186.445889 108.069668 \n\" style=\"fill:none;stroke:#ff0000;stroke-linejoin:miter;stroke-width:1.5;\"/>\n   </g>\n   <g id=\"patch_6\">\n    <path clip-path=\"url(#p1b0da78c9d)\" d=\"M 186.445889 150.930332 \nC 188.688 149.52641 190.69596 147.779279 192.396381 145.752797 \nC 194.096801 143.726315 195.46871 141.445474 196.461965 138.993638 \n\" style=\"fill:none;stroke:#ff0000;stroke-linejoin:miter;stroke-width:1.5;\"/>\n   </g>\n   <g id=\"patch_7\">\n    <path clip-path=\"url(#p1b0da78c9d)\" d=\"M 109.038486 108.069668 \nC 106.796375 109.47359 104.788415 111.220721 103.087994 113.247203 \nC 101.387574 115.273685 100.015665 117.554526 99.02241 120.006362 \n\" style=\"fill:none;stroke:#ff0000;stroke-linejoin:miter;stroke-width:1.5;\"/>\n   </g>\n   <g id=\"patch_8\">\n    <path clip-path=\"url(#p1b0da78c9d)\" d=\"M 99.02241 138.993638 \nC 100.015665 141.445474 101.387574 143.726315 103.087994 145.752797 \nC 104.788415 147.779279 106.796375 149.52641 109.038486 150.930332 \n\" style=\"fill:none;stroke:#ff0000;stroke-linejoin:miter;stroke-width:1.5;\"/>\n   </g>\n   <g id=\"patch_9\">\n    <path clip-path=\"url(#p1b0da78c9d)\" d=\"M 191.685175 101.305547 \nC 189.28212 100.203801 186.748038 99.413786 184.144619 98.954733 \nC 181.5412 98.49568 178.889742 98.371344 176.254789 98.584754 \n\" style=\"fill:none;stroke:#ff0000;stroke-linejoin:miter;stroke-width:1.5;\"/>\n   </g>\n   <g id=\"patch_10\">\n    <path clip-path=\"url(#p1b0da78c9d)\" d=\"M 176.254789 160.415246 \nC 178.889742 160.628656 181.5412 160.50432 184.144619 160.045267 \nC 186.748038 159.586214 189.28212 158.796199 191.685175 157.694453 \n\" style=\"fill:none;stroke:#ff0000;stroke-linejoin:miter;stroke-width:1.5;\"/>\n   </g>\n   <g id=\"patch_11\">\n    <path clip-path=\"url(#p1b0da78c9d)\" d=\"M 119.229586 98.584754 \nC 116.594633 98.371344 113.943175 98.49568 111.339756 98.954733 \nC 108.736337 99.413786 106.202255 100.203801 103.7992 101.305547 \n\" style=\"fill:none;stroke:#ff0000;stroke-linejoin:miter;stroke-width:1.5;\"/>\n   </g>\n   <g id=\"patch_12\">\n    <path clip-path=\"url(#p1b0da78c9d)\" d=\"M 103.7992 157.694453 \nC 106.202255 158.796199 108.736337 159.586214 111.339756 160.045267 \nC 113.943175 160.50432 116.594633 160.628656 119.229586 160.415246 \n\" style=\"fill:none;stroke:#ff0000;stroke-linejoin:miter;stroke-width:1.5;\"/>\n   </g>\n   <g id=\"patch_13\">\n    <path clip-path=\"url(#p1b0da78c9d)\" d=\"M 178.658635 84.975036 \nC 176.183596 85.897989 173.789817 87.025709 171.502188 88.346473 \nC 169.214558 89.667236 167.041034 91.176449 165.004213 92.85842 \n\" style=\"fill:none;stroke:#ff0000;stroke-linejoin:miter;stroke-width:1.5;\"/>\n   </g>\n   <g id=\"patch_14\">\n    <path clip-path=\"url(#p1b0da78c9d)\" d=\"M 165.004213 166.14158 \nC 167.041034 167.823551 169.214558 169.332764 171.502188 170.653527 \nC 173.789817 171.974291 176.183596 173.102011 178.658635 174.024964 \n\" style=\"fill:none;stroke:#ff0000;stroke-linejoin:miter;stroke-width:1.5;\"/>\n   </g>\n   <g id=\"patch_15\">\n    <path clip-path=\"url(#p1b0da78c9d)\" d=\"M 130.480162 92.85842 \nC 128.443341 91.176449 126.269817 89.667236 123.982187 88.346473 \nC 121.694558 87.025709 119.300779 85.897989 116.82574 84.975036 \n\" style=\"fill:none;stroke:#ff0000;stroke-linejoin:miter;stroke-width:1.5;\"/>\n   </g>\n   <g id=\"patch_16\">\n    <path clip-path=\"url(#p1b0da78c9d)\" d=\"M 116.82574 174.024964 \nC 119.300779 173.102011 121.694558 171.974291 123.982187 170.653527 \nC 126.269817 169.332764 128.443341 167.823551 130.480162 166.14158 \n\" style=\"fill:none;stroke:#ff0000;stroke-linejoin:miter;stroke-width:1.5;\"/>\n   </g>\n   <g id=\"patch_17\">\n    <path clip-path=\"url(#p1b0da78c9d)\" d=\"M 158.916568 75.3421 \nC 157.87156 77.766668 156.896945 80.220974 155.993949 82.701936 \nC 155.090953 85.182897 154.259953 87.689475 153.501994 90.21852 \n\" style=\"fill:none;stroke:#ff0000;stroke-linejoin:miter;stroke-width:1.5;\"/>\n   </g>\n   <g id=\"patch_18\">\n    <path clip-path=\"url(#p1b0da78c9d)\" d=\"M 153.501994 168.78148 \nC 154.259953 171.310525 155.090953 173.817103 155.993949 176.298064 \nC 156.896945 178.779026 157.87156 181.233332 158.916568 183.6579 \n\" style=\"fill:none;stroke:#ff0000;stroke-linejoin:miter;stroke-width:1.5;\"/>\n   </g>\n   <g id=\"patch_19\">\n    <path clip-path=\"url(#p1b0da78c9d)\" d=\"M 141.982381 90.21852 \nC 141.224422 87.689475 140.393422 85.182897 139.490426 82.701936 \nC 138.58743 80.220974 137.612815 77.766668 136.567807 75.3421 \n\" style=\"fill:none;stroke:#ff0000;stroke-linejoin:miter;stroke-width:1.5;\"/>\n   </g>\n   <g id=\"patch_20\">\n    <path clip-path=\"url(#p1b0da78c9d)\" d=\"M 136.567807 183.6579 \nC 137.612815 181.233332 138.58743 178.779026 139.490426 176.298064 \nC 140.393422 173.817103 141.224422 171.310525 141.982381 168.78148 \n\" style=\"fill:none;stroke:#ff0000;stroke-linejoin:miter;stroke-width:1.5;\"/>\n   </g>\n   <g id=\"patch_21\">\n    <path clip-path=\"url(#p1b0da78c9d)\" d=\"M 156.997397 80.031911 \nC 156.042881 82.49351 155.159812 84.982221 154.349299 87.494917 \nC 153.538787 90.007613 152.801169 92.543242 152.137374 95.098619 \n\" style=\"fill:none;stroke:#ff0000;stroke-linejoin:miter;stroke-width:1.5;\"/>\n   </g>\n   <g id=\"patch_22\">\n    <path clip-path=\"url(#p1b0da78c9d)\" d=\"M 152.137374 163.901381 \nC 152.801169 166.456758 153.538787 168.992387 154.349299 171.505083 \nC 155.159812 174.017779 156.042881 176.50649 156.997397 178.968089 \n\" style=\"fill:none;stroke:#ff0000;stroke-linejoin:miter;stroke-width:1.5;\"/>\n   </g>\n   <g id=\"patch_23\">\n    <path clip-path=\"url(#p1b0da78c9d)\" d=\"M 143.347001 95.098619 \nC 142.683206 92.543242 141.945588 90.007613 141.135076 87.494917 \nC 140.324563 84.982221 139.441494 82.49351 138.486978 80.031911 \n\" style=\"fill:none;stroke:#ff0000;stroke-linejoin:miter;stroke-width:1.5;\"/>\n   </g>\n   <g id=\"patch_24\">\n    <path clip-path=\"url(#p1b0da78c9d)\" d=\"M 138.486978 178.968089 \nC 139.441494 176.50649 140.324563 174.017779 141.135076 171.505083 \nC 141.945588 168.992387 142.683206 166.456758 143.347001 163.901381 \n\" style=\"fill:none;stroke:#ff0000;stroke-linejoin:miter;stroke-width:1.5;\"/>\n   </g>\n   <g id=\"patch_25\">\n    <path clip-path=\"url(#p1b0da78c9d)\" d=\"M 158.620607 99.242026 \nC 156.938637 101.278846 155.429424 103.452371 154.10866 105.74 \nC 152.787897 108.027629 151.660176 110.421408 150.737223 112.896448 \n\" style=\"fill:none;stroke:#ff0000;stroke-linejoin:miter;stroke-width:1.5;\"/>\n   </g>\n   <g id=\"patch_26\">\n    <path clip-path=\"url(#p1b0da78c9d)\" d=\"M 150.737223 146.103552 \nC 151.660176 148.578592 152.787897 150.972371 154.10866 153.26 \nC 155.429424 155.547629 156.938637 157.721154 158.620607 159.757974 \n\" style=\"fill:none;stroke:#ff0000;stroke-linejoin:miter;stroke-width:1.5;\"/>\n   </g>\n   <g id=\"patch_27\">\n    <path clip-path=\"url(#p1b0da78c9d)\" d=\"M 144.747152 112.896448 \nC 143.824199 110.421408 142.696478 108.027629 141.375715 105.74 \nC 140.054951 103.452371 138.545738 101.278846 136.863768 99.242026 \n\" style=\"fill:none;stroke:#ff0000;stroke-linejoin:miter;stroke-width:1.5;\"/>\n   </g>\n   <g id=\"patch_28\">\n    <path clip-path=\"url(#p1b0da78c9d)\" d=\"M 136.863768 159.757974 \nC 138.545738 157.721154 140.054951 155.547629 141.375715 153.26 \nC 142.696478 150.972371 143.824199 148.578592 144.747152 146.103552 \n\" style=\"fill:none;stroke:#ff0000;stroke-linejoin:miter;stroke-width:1.5;\"/>\n   </g>\n   <g id=\"patch_29\">\n    <path clip-path=\"url(#p1b0da78c9d)\" d=\"M 154.655722 109.978986 \nC 152.991916 112.033316 151.597557 114.291956 150.506587 116.699923 \nC 149.415617 119.10789 148.636962 121.645485 148.189576 124.250934 \n\" style=\"fill:none;stroke:#ff0000;stroke-linejoin:miter;stroke-width:1.5;\"/>\n   </g>\n   <g id=\"patch_30\">\n    <path clip-path=\"url(#p1b0da78c9d)\" d=\"M 148.189576 134.749066 \nC 148.636962 137.354515 149.415617 139.89211 150.506587 142.300077 \nC 151.597557 144.708044 152.991916 146.966684 154.655722 149.021014 \n\" style=\"fill:none;stroke:#ff0000;stroke-linejoin:miter;stroke-width:1.5;\"/>\n   </g>\n   <g id=\"patch_31\">\n    <path clip-path=\"url(#p1b0da78c9d)\" d=\"M 147.294799 124.250934 \nC 146.847413 121.645485 146.068758 119.10789 144.977788 116.699923 \nC 143.886818 114.291956 142.492459 112.033316 140.828653 109.978986 \n\" style=\"fill:none;stroke:#ff0000;stroke-linejoin:miter;stroke-width:1.5;\"/>\n   </g>\n   <g id=\"patch_32\">\n    <path clip-path=\"url(#p1b0da78c9d)\" d=\"M 140.828653 149.021014 \nC 142.492459 146.966684 143.886818 144.708044 144.977788 142.300077 \nC 146.068758 139.89211 146.847413 137.354515 147.294799 134.749066 \n\" style=\"fill:none;stroke:#ff0000;stroke-linejoin:miter;stroke-width:1.5;\"/>\n   </g>\n   <g id=\"patch_33\">\n    <path clip-path=\"url(#p1b0da78c9d)\" d=\"M 151.360354 116.466252 \nC 149.996721 118.733092 148.997244 121.199955 148.398451 123.776679 \nC 147.799659 126.353404 147.608937 129.008209 147.833256 131.644066 \n\" style=\"fill:none;stroke:#ff0000;stroke-linejoin:miter;stroke-width:1.5;\"/>\n   </g>\n   <g id=\"patch_34\">\n    <path clip-path=\"url(#p1b0da78c9d)\" d=\"M 147.833256 127.355934 \nC 147.608937 129.991791 147.799659 132.646596 148.398451 135.223321 \nC 148.997244 137.800045 149.996721 140.266908 151.360354 142.533748 \n\" style=\"fill:none;stroke:#ff0000;stroke-linejoin:miter;stroke-width:1.5;\"/>\n   </g>\n   <g id=\"patch_35\">\n    <path clip-path=\"url(#p1b0da78c9d)\" d=\"M 147.651119 131.644066 \nC 147.875438 129.008209 147.684716 126.353404 147.085924 123.776679 \nC 146.487131 121.199955 145.487654 118.733092 144.124021 116.466252 \n\" style=\"fill:none;stroke:#ff0000;stroke-linejoin:miter;stroke-width:1.5;\"/>\n   </g>\n   <g id=\"patch_36\">\n    <path clip-path=\"url(#p1b0da78c9d)\" d=\"M 144.124021 142.533748 \nC 145.487654 140.266908 146.487131 137.800045 147.085924 135.223321 \nC 147.684716 132.646596 147.875438 129.991791 147.651119 127.355934 \n\" style=\"fill:none;stroke:#ff0000;stroke-linejoin:miter;stroke-width:1.5;\"/>\n   </g>\n   <g id=\"patch_37\">\n    <path clip-path=\"url(#p1b0da78c9d)\" d=\"M 149.05001 121.725854 \nC 148.184222 124.226301 147.742188 126.853904 147.742188 129.5 \nC 147.742188 132.146096 148.184222 134.773699 149.05001 137.274146 \n\" style=\"fill:none;stroke:#ff0000;stroke-linejoin:miter;stroke-width:1.5;\"/>\n   </g>\n   <g id=\"patch_38\">\n    <path clip-path=\"url(#p1b0da78c9d)\" d=\"M 149.05001 121.725854 \nC 148.184222 124.226301 147.742188 126.853904 147.742188 129.5 \nC 147.742188 132.146096 148.184222 134.773699 149.05001 137.274146 \n\" style=\"fill:none;stroke:#ff0000;stroke-linejoin:miter;stroke-width:1.5;\"/>\n   </g>\n   <g id=\"patch_39\">\n    <path clip-path=\"url(#p1b0da78c9d)\" d=\"M 146.434365 137.274146 \nC 147.300153 134.773699 147.742188 132.146096 147.742188 129.5 \nC 147.742188 126.853904 147.300153 124.226301 146.434365 121.725854 \n\" style=\"fill:none;stroke:#ff0000;stroke-linejoin:miter;stroke-width:1.5;\"/>\n   </g>\n   <g id=\"patch_40\">\n    <path clip-path=\"url(#p1b0da78c9d)\" d=\"M 146.434365 137.274146 \nC 147.300153 134.773699 147.742188 132.146096 147.742188 129.5 \nC 147.742188 126.853904 147.300153 124.226301 146.434365 121.725854 \n\" style=\"fill:none;stroke:#ff0000;stroke-linejoin:miter;stroke-width:1.5;\"/>\n   </g>\n   <g id=\"line2d_1\">\n    <path clip-path=\"url(#p1b0da78c9d)\" d=\"M 28.942188 129.5 \nL 266.542188 129.5 \n\" style=\"fill:none;stroke:#1f77b4;stroke-linecap:square;stroke-width:1.5;\"/>\n   </g>\n   <g id=\"line2d_2\">\n    <path clip-path=\"url(#p1b0da78c9d)\" d=\"M 147.742188 248.3 \nL 147.742188 10.7 \n\" style=\"fill:none;stroke:#1f77b4;stroke-linecap:square;stroke-width:1.5;\"/>\n   </g>\n   <g id=\"line2d_3\">\n    <path clip-path=\"url(#p1b0da78c9d)\" d=\"M 28.942187 248.3 \nL 266.542188 10.7 \n\" style=\"fill:none;stroke:#000000;stroke-dasharray:1.85,0.8;stroke-dashoffset:0;stroke-width:0.5;\"/>\n   </g>\n   <g id=\"line2d_4\">\n    <path clip-path=\"url(#p1b0da78c9d)\" d=\"M 28.942187 10.7 \nL 266.542188 248.3 \n\" style=\"fill:none;stroke:#000000;stroke-dasharray:1.85,0.8;stroke-dashoffset:0;stroke-width:0.5;\"/>\n   </g>\n  </g>\n </g>\n <defs>\n  <clipPath id=\"p1b0da78c9d\">\n   <rect height=\"237.6\" width=\"237.6\" x=\"28.942188\" y=\"10.7\"/>\n  </clipPath>\n </defs>\n</svg>\n",
      "image/png": "[encoded data removed]"
     },
     "metadata": {
      "needs_background": "light"
     }
    }
   ],
   "source": [
    "lim = 5\n",
    "\n",
    "# Figure setup\n",
    "fig_width, fig_height = 3.30, 3.30\n",
    "fig = plt.figure(figsize=(fig_width, fig_height), frameon=False)\n",
    "ax = fig.add_axes([0.0, 0.0, 1.0, 1.0], aspect='equal')\n",
    "ax.set_axis_off()\n",
    "ax.set_xlim(-5, 5)\n",
    "ax.set_ylim(-5, 5)\n",
    "# Axes\n",
    "ax.axhline(0.0)\n",
    "ax.axvline(0.0)\n",
    "# 45 degree line\n",
    "ax.plot([-lim, lim], [-lim, lim], 'k--', lw=.5)\n",
    "ax.plot([-lim, lim], [lim, -lim], 'k--', lw=.5)\n",
    "\n",
    "\n",
    "npts = 20\n",
    "#xs = np.random.rand(npts)*lim\n",
    "#ys = np.random.rand(npts)*lim\n",
    "step = 0.15\n",
    "xs = np.arange(step/2, lim + step, step)\n",
    "ys = np.arange(step/2, lim + step, step)\n",
    "ls = np.arange(step/2, lim + step, step)\n",
    "ts = np.linspace(0, np.pi,10)\n",
    "#ts = np.linspace(0, np.sqrt(np.pi),10)**2\n",
    "#ts = np.linspace(np.sqrt(np.pi), 0,10)**2\n",
    "\n",
    "print('i=%s',end=' ')\n",
    "for i,t in enumerate(ts):\n",
    "    print(i, end=', ')\n",
    "    add_rods(2*np.cos(t), 2*np.sin(t))\n",
    "    #add_rods(1*np.cos(t), 1*np.sin(t))\n",
    "    #add_rods(3*np.cos(t), 3*np.sin(t))\n",
    "#    add_rods(1.5*np.cos(t), 1.5*np.sin(t))\n",
    "#    add_rods(2.5*np.cos(t), 2.5*np.sin(t))\n",
    "#    add_rods(3.5*np.cos(t), 3.5*np.sin(t))\n",
    "\n",
    "#    for y in ys:\n",
    "#        #add_rods(x, y/np.cos(np.arctan(y/x)))\n",
    "#        add_rods(x, y)\n",
    "\n",
    "fig.savefig('Arc_patch_bug.png')"
   ]
  },
  {
   "cell_type": "code",
   "execution_count": 106,
   "metadata": {},
   "outputs": [
    {
     "output_type": "execute_result",
     "data": {
      "text/plain": [
       "array([3.14159265, 2.82743339, 2.51327412, 2.19911486, 1.88495559,\n",
       "       1.57079633, 1.25663706, 0.9424778 , 0.62831853, 0.31415927])"
      ]
     },
     "metadata": {},
     "execution_count": 106
    }
   ],
   "source": [
    "np.arange(np.pi, 0, -np.pi/10)"
   ]
  },
  {
   "cell_type": "code",
   "execution_count": null,
   "metadata": {},
   "outputs": [],
   "source": []
  }
 ]
}